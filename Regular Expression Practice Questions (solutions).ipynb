{
 "cells": [
  {
   "cell_type": "markdown",
   "id": "8851e3c4",
   "metadata": {},
   "source": [
    "# Regular Expression Practice Questions (solution)\n"
   ]
  },
  {
   "cell_type": "markdown",
   "id": "fc7f775a",
   "metadata": {},
   "source": [
    "# Question 1-Write a RegEx pattern in python program to check that a string contains only a certain set of characters (in this case a-z, A-Z and 0-9) ,in python."
   ]
  },
  {
   "cell_type": "code",
   "execution_count": 15,
   "id": "c0e8ccd7",
   "metadata": {},
   "outputs": [
    {
     "name": "stdout",
     "output_type": "stream",
     "text": [
      "String \"Rough-123\" contains only allowed characters: False\n",
      "String \"EXAMple000\" contains only allowed characters: True\n",
      "String \"Example123$\" contains only allowed characters: False\n"
     ]
    }
   ],
   "source": [
    "import re\n",
    "\n",
    "def contains_only_allowed_characters(input_string):\n",
    "    pattern = r'^[a-zA-Z0-9]+$'\n",
    "    return bool(re.match(pattern, input_string))\n",
    "\n",
    "# Test cases\n",
    "test_strings = [\"Rough-123\", \"EXAMple000\", \"Example123$\"]\n",
    "\n",
    "for test_string in test_strings:\n",
    "    result = contains_only_allowed_characters(test_string)\n",
    "    print(f'String \"{test_string}\" contains only allowed characters: {result}')"
   ]
  },
  {
   "cell_type": "markdown",
   "id": "87791848",
   "metadata": {},
   "source": [
    "# Question 2- Write a RegEx pattern that matches a string that has an a followed by zero or more b's"
   ]
  },
  {
   "cell_type": "code",
   "execution_count": 20,
   "id": "4a4388a5",
   "metadata": {},
   "outputs": [
    {
     "name": "stdout",
     "output_type": "stream",
     "text": [
      "The string \"a\" matches the pattern.\n",
      "The string \"az\" does not match the pattern.\n",
      "The string \"abb\" matches the pattern.\n",
      "The string \"abbb\" matches the pattern.\n",
      "The string \"ac\" does not match the pattern.\n",
      "The string \"abbbbbbb\" matches the pattern.\n"
     ]
    }
   ],
   "source": [
    "import re\n",
    "\n",
    "pattern = r'ab*'\n",
    "strings = ['a', 'az', 'abb', 'abbb', 'ac', 'abbbbbbb']\n",
    "\n",
    "for string in strings:\n",
    "    if re.fullmatch(pattern, string):\n",
    "        print(f'The string \"{string}\" matches the pattern.')\n",
    "    else:\n",
    "        print(f'The string \"{string}\" does not match the pattern.')"
   ]
  },
  {
   "cell_type": "markdown",
   "id": "cacdff5d",
   "metadata": {},
   "source": [
    "# Question 3-  Write a RegEx pattern that matches a string that has an a followed by one or more b's"
   ]
  },
  {
   "cell_type": "code",
   "execution_count": 21,
   "id": "88cf4f4a",
   "metadata": {},
   "outputs": [
    {
     "name": "stdout",
     "output_type": "stream",
     "text": [
      "Found a match in 'ab': ab\n",
      "Found a match in 'abb': abb\n",
      "No match found in 'ac'\n",
      "All matches in 'abbabbbb': ['abb', 'abbbb']\n"
     ]
    }
   ],
   "source": [
    "import re\n",
    "\n",
    "pattern = r'ab+'\n",
    "\n",
    "# Example usage with re.search()\n",
    "string1 = \"ab\"\n",
    "match = re.search(pattern, string1)\n",
    "\n",
    "if match:\n",
    "    print(f\"Found a match in '{string1}': {match.group()}\")\n",
    "\n",
    "string2 = \"abb\"\n",
    "match = re.search(pattern, string2)\n",
    "\n",
    "if match:\n",
    "    print(f\"Found a match in '{string2}': {match.group()}\")\n",
    "\n",
    "string3 = \"ac\"\n",
    "match = re.search(pattern, string3)\n",
    "\n",
    "if not match:\n",
    "    print(f\"No match found in '{string3}'\")\n",
    "\n",
    "# Example usage with re.findall()\n",
    "string4 = \"abbabbbb\"\n",
    "matches = re.findall(pattern, string4)\n",
    "\n",
    "print(f\"All matches in '{string4}': {matches}\")"
   ]
  },
  {
   "cell_type": "markdown",
   "id": "b0887714",
   "metadata": {},
   "source": [
    "# Question 4- Write a RegEx pattern that matches a string that has an a followed by zero or one 'b'."
   ]
  },
  {
   "cell_type": "code",
   "execution_count": 23,
   "id": "00a7347a",
   "metadata": {},
   "outputs": [
    {
     "name": "stdout",
     "output_type": "stream",
     "text": [
      "['ab', 'ab', 'a', 'ab', 'ab']\n"
     ]
    }
   ],
   "source": [
    "import re\n",
    "\n",
    "def find_pattern(text):\n",
    "    pattern = r'ab?'\n",
    "    matches = re.findall(pattern, text)\n",
    "    return matches\n",
    "\n",
    "input_string = \"abbab ac abbb abc\"\n",
    "result = find_pattern(input_string)\n",
    "\n",
    "print(result)"
   ]
  },
  {
   "cell_type": "markdown",
   "id": "65a0f76c",
   "metadata": {},
   "source": [
    "# Quest-5 Write a RegEx pattern in python program that matches a string that has an a followed by three 'b'."
   ]
  },
  {
   "cell_type": "code",
   "execution_count": 24,
   "id": "9ec3304e",
   "metadata": {},
   "outputs": [
    {
     "name": "stdout",
     "output_type": "stream",
     "text": [
      "Found matches: ['abbb', 'abbb', 'abbb', 'abbb']\n"
     ]
    }
   ],
   "source": [
    "import re\n",
    "\n",
    "def find_abbb(input_string):\n",
    "    pattern = r'a{1}b{3}'\n",
    "    matches = re.findall(pattern, input_string)\n",
    "    return matches\n",
    "\n",
    "input_string = \"abbb aaabbb abbbb aabbbbbb\"\n",
    "matches = find_abbb(input_string)\n",
    "\n",
    "if matches:\n",
    "    print(f\"Found matches: {matches}\")\n",
    "else:\n",
    "    print(\"No matches found.\")"
   ]
  },
  {
   "cell_type": "markdown",
   "id": "47e2c6c4",
   "metadata": {},
   "source": [
    "# Question 6- Write a RegEx pattern in python program that matches a string that has an a followed by two to three 'b'."
   ]
  },
  {
   "cell_type": "code",
   "execution_count": 25,
   "id": "b9ba45a8",
   "metadata": {},
   "outputs": [
    {
     "name": "stdout",
     "output_type": "stream",
     "text": [
      "Pattern matched: abbb\n"
     ]
    }
   ],
   "source": [
    "import re\n",
    "\n",
    "def match_pattern(input_string):\n",
    "    pattern = r'a(bb{2,3})'\n",
    "    match = re.search(pattern, input_string)\n",
    "    \n",
    "    if match:\n",
    "        return f\"Pattern matched: {match.group()}\"\n",
    "    else:\n",
    "        return \"Pattern not found.\"\n",
    "\n",
    "\n",
    "test_string = \"abbb\"\n",
    "result = match_pattern(test_string)\n",
    "print(result)"
   ]
  },
  {
   "cell_type": "markdown",
   "id": "2ddfcb72",
   "metadata": {},
   "source": [
    "# Question 7- Write a Python program that matches a string that has an 'a' followed by anything, ending in 'b'.\n",
    "\n",
    "\n"
   ]
  },
  {
   "cell_type": "code",
   "execution_count": 30,
   "id": "51d54712",
   "metadata": {},
   "outputs": [
    {
     "name": "stdout",
     "output_type": "stream",
     "text": [
      "'azb' matches the pattern.\n",
      "'a12345b' matches the pattern.\n",
      "'xyz' does not match the pattern.\n",
      "'a454545b' matches the pattern.\n",
      "'aabb' matches the pattern.\n",
      "'azcb5555v' does not match the pattern.\n"
     ]
    }
   ],
   "source": [
    "import re\n",
    "\n",
    "def match_pattern(input_string):\n",
    "    pattern = r'a.*b$'\n",
    "    match = re.match(pattern, input_string)\n",
    "    return match is not None\n",
    "\n",
    "# Test the function\n",
    "test_strings = ['azb', 'a12345b', 'xyz', 'a454545b', 'aabb', 'azcb5555v']\n",
    "\n",
    "for test_string in test_strings:\n",
    "    if match_pattern(test_string):\n",
    "        print(f\"'{test_string}' matches the pattern.\")\n",
    "    else:\n",
    "        print(f\"'{test_string}' does not match the pattern.\")\n"
   ]
  },
  {
   "cell_type": "markdown",
   "id": "82e7b215",
   "metadata": {},
   "source": [
    "# Question 8- Write a RegEx pattern in python program that matches a word at the beginning of a string.\n"
   ]
  },
  {
   "cell_type": "code",
   "execution_count": 32,
   "id": "216eee32",
   "metadata": {},
   "outputs": [
    {
     "name": "stdout",
     "output_type": "stream",
     "text": [
      "Match found-- Hello\n"
     ]
    }
   ],
   "source": [
    "import re\n",
    "\n",
    "def match_word_at_beginning(text):\n",
    "    pattern = r'\\b\\w+\\b'\n",
    "    match = re.match(pattern, text)\n",
    "    if match:\n",
    "        return match.group()\n",
    "    else:\n",
    "        return None\n",
    "\n",
    "text = \"Hello world! This is a test.\"\n",
    "result = match_word_at_beginning(text)\n",
    "\n",
    "if result:\n",
    "    print(f\"Match found-- {result}\")\n",
    "else:\n",
    "    print(\"No match found.\")\n",
    "\n"
   ]
  },
  {
   "cell_type": "markdown",
   "id": "43465f18",
   "metadata": {},
   "source": [
    "# Question 9- Write a RegEx pattern in python program that matches a word at the end of a string.\n",
    "\n"
   ]
  },
  {
   "cell_type": "code",
   "execution_count": 34,
   "id": "016923c7",
   "metadata": {},
   "outputs": [
    {
     "name": "stdout",
     "output_type": "stream",
     "text": [
      "Matched word at the end-- ['World']\n"
     ]
    }
   ],
   "source": [
    "import re\n",
    "\n",
    "def match_word_at_end(text):\n",
    "    pattern = r'\\b\\w+\\b$'\n",
    "    matches = re.findall(pattern, text)\n",
    "    return matches\n",
    "\n",
    "# Example usage\n",
    "text = \"Hello World\"\n",
    "matches = match_word_at_end(text)\n",
    "\n",
    "if matches:\n",
    "    print(f\"Matched word at the end-- {matches}\")\n",
    "else:\n",
    "    print(\"No matches found\")"
   ]
  },
  {
   "cell_type": "markdown",
   "id": "8cd5ee78",
   "metadata": {},
   "source": [
    "# Question 10- Write a RegEx pattern in python program to find all words that are 4 digits long in a string.\n",
    "Sample text- '01 0132 231875 1458 301 2725.'\n",
    "Expected output- ['0132', '1458', '2725']"
   ]
  },
  {
   "cell_type": "code",
   "execution_count": 38,
   "id": "db3ae53e",
   "metadata": {},
   "outputs": [
    {
     "name": "stdout",
     "output_type": "stream",
     "text": [
      "['0132', '1212', '1458', '2725', '5555']\n"
     ]
    }
   ],
   "source": [
    "import re\n",
    "\n",
    "def find_four_digit_words(text):\n",
    "    pattern = r'\\b\\d{4}\\b'\n",
    "    matches = re.findall(pattern, text)\n",
    "    return matches\n",
    "\n",
    "sample_text = '01 0132 1212 23100875 1458 301 2725 5555'\n",
    "result = find_four_digit_words(sample_text)\n",
    "print(result)"
   ]
  },
  {
   "cell_type": "code",
   "execution_count": null,
   "id": "bfdef64e",
   "metadata": {},
   "outputs": [],
   "source": []
  }
 ],
 "metadata": {
  "kernelspec": {
   "display_name": "Python 3 (ipykernel)",
   "language": "python",
   "name": "python3"
  },
  "language_info": {
   "codemirror_mode": {
    "name": "ipython",
    "version": 3
   },
   "file_extension": ".py",
   "mimetype": "text/x-python",
   "name": "python",
   "nbconvert_exporter": "python",
   "pygments_lexer": "ipython3",
   "version": "3.10.9"
  }
 },
 "nbformat": 4,
 "nbformat_minor": 5
}
